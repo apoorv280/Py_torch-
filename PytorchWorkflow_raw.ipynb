{
  "nbformat": 4,
  "nbformat_minor": 0,
  "metadata": {
    "colab": {
      "provenance": [],
      "toc_visible": true,
      "authorship_tag": "ABX9TyOFZ3Kukv4uesKVuRC1k8LV",
      "include_colab_link": true
    },
    "kernelspec": {
      "name": "python3",
      "display_name": "Python 3"
    },
    "language_info": {
      "name": "python"
    }
  },
  "cells": [
    {
      "cell_type": "markdown",
      "metadata": {
        "id": "view-in-github",
        "colab_type": "text"
      },
      "source": [
        "<a href=\"https://colab.research.google.com/github/apoorv280/Py_torch-/blob/main/PytorchWorkflow_raw.ipynb\" target=\"_parent\"><img src=\"https://colab.research.google.com/assets/colab-badge.svg\" alt=\"Open In Colab\"/></a>"
      ]
    },
    {
      "cell_type": "code",
      "execution_count": 146,
      "metadata": {
        "colab": {
          "base_uri": "https://localhost:8080/",
          "height": 36
        },
        "id": "_MmkwI63Keg9",
        "outputId": "52009026-8fca-4ebc-b965-007bb9d76c83"
      },
      "outputs": [
        {
          "output_type": "execute_result",
          "data": {
            "text/plain": [
              "'2.6.0+cu124'"
            ],
            "application/vnd.google.colaboratory.intrinsic+json": {
              "type": "string"
            }
          },
          "metadata": {},
          "execution_count": 146
        }
      ],
      "source": [
        "import torch\n",
        "from torch import nn\n",
        "import matplotlib.pyplot as plt\n",
        "import numpy as np\n",
        "torch.__version__"
      ]
    },
    {
      "cell_type": "markdown",
      "source": [
        "## pytorch Workflow\n",
        "Data can be anything\n",
        "* excel sheets\n",
        "* images\n",
        "* text\n",
        "* audio\n",
        "* DNA\n",
        "\n",
        "ML is a game of two parts:\n",
        "1. Get data into numerical representation.\n",
        "2. Build models to recognize patterns from data.\n",
        "\n"
      ],
      "metadata": {
        "id": "0q1eLamxKqTY"
      }
    },
    {
      "cell_type": "code",
      "source": [
        "# create known parameters\n",
        "weight = 0.7\n",
        "bias = 0.3\n",
        "\n",
        "# create\n",
        "start = 0\n",
        "end = 1\n",
        "step = 0.02\n",
        "\n",
        "#add extra dimension with unsqueeze\n",
        "X = torch.arange(start,end,step).unsqueeze(dim=1)\n",
        "y = weight * X + bias\n",
        "\n",
        "X[:10],y[:10]"
      ],
      "metadata": {
        "id": "j682tfvIKowV",
        "colab": {
          "base_uri": "https://localhost:8080/"
        },
        "outputId": "bd488202-628b-46f3-b63e-3226e0c5494f"
      },
      "execution_count": 120,
      "outputs": [
        {
          "output_type": "execute_result",
          "data": {
            "text/plain": [
              "(tensor([[0.0000],\n",
              "         [0.0200],\n",
              "         [0.0400],\n",
              "         [0.0600],\n",
              "         [0.0800],\n",
              "         [0.1000],\n",
              "         [0.1200],\n",
              "         [0.1400],\n",
              "         [0.1600],\n",
              "         [0.1800]]),\n",
              " tensor([[0.3000],\n",
              "         [0.3140],\n",
              "         [0.3280],\n",
              "         [0.3420],\n",
              "         [0.3560],\n",
              "         [0.3700],\n",
              "         [0.3840],\n",
              "         [0.3980],\n",
              "         [0.4120],\n",
              "         [0.4260]]))"
            ]
          },
          "metadata": {},
          "execution_count": 120
        }
      ]
    },
    {
      "cell_type": "markdown",
      "source": [
        "### Splitting data into training and testing."
      ],
      "metadata": {
        "id": "BIZpKrXZ2GJC"
      }
    },
    {
      "cell_type": "markdown",
      "source": [
        "### Training Validation Testing (Validation not always needed)"
      ],
      "metadata": {
        "id": "2SgRWxw61bOg"
      }
    },
    {
      "cell_type": "code",
      "source": [
        "#create a train/test split\n",
        "train_split = int(0.8*len(X))\n",
        "X_train, y_train = X[:train_split], y[:train_split]\n",
        "X_test, y_test = X[train_split:], y[train_split:]\n",
        "\n",
        "len(X_train), len(y_train), len(X_test), len(y_test)\n"
      ],
      "metadata": {
        "id": "12r-H5k828xX",
        "colab": {
          "base_uri": "https://localhost:8080/"
        },
        "outputId": "57f23e53-8d3c-4b2c-a568-e913dec69965"
      },
      "execution_count": 121,
      "outputs": [
        {
          "output_type": "execute_result",
          "data": {
            "text/plain": [
              "(40, 40, 10, 10)"
            ]
          },
          "metadata": {},
          "execution_count": 121
        }
      ]
    },
    {
      "cell_type": "markdown",
      "source": [
        "### Plotting the data"
      ],
      "metadata": {
        "id": "sBqGh0d528CO"
      }
    },
    {
      "cell_type": "code",
      "source": [
        "def plot_pred(train_data = X_train,\n",
        "              train_labels = y_train,\n",
        "              test_data = X_test,\n",
        "              test_labels = y_test,\n",
        "              predictions = None):\n",
        "  \"\"\"\n",
        "  Plots training and testing data and compare predictions\n",
        "  \"\"\"\n",
        "  plt.figure(figsize=(10,7))\n",
        "\n",
        "  # plot training in Blue\n",
        "  plt.scatter(train_data,train_labels, c='b', s=4, label = 'Training data')\n",
        "\n",
        "  #plot test data into green\n",
        "  plt.scatter(test_data,test_labels, c='g', s=4, label = \"Testing_data\")\n",
        "\n",
        "  #are there any predictions\n",
        "  if predictions is not None:\n",
        "    plt.scatter(test_data, predictions, c='r', s=4, label = \"Predictions\")\n",
        "\n",
        "  #show Legend\n",
        "  plt.legend(prop={\"size\":14})"
      ],
      "metadata": {
        "id": "Ng4_-pLs27Ew"
      },
      "execution_count": 122,
      "outputs": []
    },
    {
      "cell_type": "code",
      "source": [
        "plot_pred();"
      ],
      "metadata": {
        "colab": {
          "base_uri": "https://localhost:8080/",
          "height": 599
        },
        "id": "hFwiGyly60hs",
        "outputId": "efc67a92-82c1-4899-bd85-cf0dca8d2ac3"
      },
      "execution_count": 123,
      "outputs": [
        {
          "output_type": "display_data",
          "data": {
            "text/plain": [
              "<Figure size 1000x700 with 1 Axes>"
            ],
            "image/png": "[encoded data removed]"
          },
          "metadata": {}
        }
      ]
    },
    {
      "cell_type": "markdown",
      "source": [
        "## Build Model\n",
        "\n",
        "Our First PyTorch Model\n",
        "two main algos\n",
        "1. gradient descent\n",
        "2. backpropagation"
      ],
      "metadata": {
        "id": "A-b-uI4t64lf"
      }
    },
    {
      "cell_type": "code",
      "source": [
        "# create a Linear Regression model\n",
        "class LinearRegressionModel(nn.Module): # everything is inherited from nn.Module\n",
        "  def __init__(self):\n",
        "    super().__init__()\n",
        "    self.weights = nn.Parameter(torch.randn(1,requires_grad=True,\n",
        "                                            dtype=torch.float))\n",
        "    # if the parameters requires gradient default True\n",
        "    # start with random values for weights and bias\n",
        "    self.bias = nn.Parameter(torch.randn(1, requires_grad=True,\n",
        "                                         dtype=torch.float))\n",
        "\n",
        "    # forward defines the computation for the model\n",
        "  def forward(self,x:torch.Tensor) -> torch.Tensor:\n",
        "    return self.weights * x + self.bias # regression formula\n"
      ],
      "metadata": {
        "id": "ycqohci4BcFQ"
      },
      "execution_count": 136,
      "outputs": []
    },
    {
      "cell_type": "markdown",
      "source": [
        "### pytorch model building essentials\n",
        "\n",
        "* torch.nn contains all building blocks for computational graphs\n",
        "* torch.nn.Parameter: what parameters should the model try\n",
        "* torch.nn.Module: the base class for all NN modules if you subclass it\n",
        "* torch.optim: it will optimise the PyTorch\n",
        "* def forward(): all nn.Module subclasses wants a forward function for doing all the calculation"
      ],
      "metadata": {
        "id": "r_VW6TADE0DW"
      }
    },
    {
      "cell_type": "markdown",
      "source": [
        "# checking the pytorch model\n",
        "we've created a model now we can check what's inside the model"
      ],
      "metadata": {
        "id": "4KlVRLdZmNzW"
      }
    },
    {
      "cell_type": "code",
      "source": [
        "# create random seed\n",
        "torch.manual_seed(42)\n",
        "\n",
        "# creating an instance of the model\n",
        "\n",
        "model_0 = LinearRegressionModel()\n",
        "\n",
        "# check the parameters\n",
        "list(model_0.parameters())"
      ],
      "metadata": {
        "colab": {
          "base_uri": "https://localhost:8080/"
        },
        "id": "Mh-owkIam9D3",
        "outputId": "05cecdb6-7d7f-4ffd-bb2c-92f6580ab3d1"
      },
      "execution_count": 137,
      "outputs": [
        {
          "output_type": "execute_result",
          "data": {
            "text/plain": [
              "[Parameter containing:\n",
              " tensor([0.3367], requires_grad=True),\n",
              " Parameter containing:\n",
              " tensor([0.1288], requires_grad=True)]"
            ]
          },
          "metadata": {},
          "execution_count": 137
        }
      ]
    },
    {
      "cell_type": "markdown",
      "source": [
        "### Making predictions using torch.inference_model()\n",
        "\n",
        "check predictions based on ytest and check it with X_test\n"
      ],
      "metadata": {
        "id": "3WgCnggdnYQj"
      }
    },
    {
      "cell_type": "code",
      "source": [
        "with torch.inference_mode():\n",
        "  y_preds = model_0(X_test)\n",
        "\n",
        "y_preds\n",
        "# inference_mode(): switch off the gradient track and updating model"
      ],
      "metadata": {
        "colab": {
          "base_uri": "https://localhost:8080/"
        },
        "id": "XNXS1S81s_xX",
        "outputId": "e20d00fd-e555-4a5b-cb7b-63835dafe27d"
      },
      "execution_count": 138,
      "outputs": [
        {
          "output_type": "execute_result",
          "data": {
            "text/plain": [
              "tensor([[0.3982],\n",
              "        [0.4049],\n",
              "        [0.4116],\n",
              "        [0.4184],\n",
              "        [0.4251],\n",
              "        [0.4318],\n",
              "        [0.4386],\n",
              "        [0.4453],\n",
              "        [0.4520],\n",
              "        [0.4588]])"
            ]
          },
          "metadata": {},
          "execution_count": 138
        }
      ]
    },
    {
      "cell_type": "code",
      "source": [
        "plot_pred(predictions=y_preds)"
      ],
      "metadata": {
        "colab": {
          "base_uri": "https://localhost:8080/",
          "height": 599
        },
        "id": "vX1DOTpBtKEi",
        "outputId": "acb7517a-3d04-4cea-ccb9-c83635dad83e"
      },
      "execution_count": 139,
      "outputs": [
        {
          "output_type": "display_data",
          "data": {
            "text/plain": [
              "<Figure size 1000x700 with 1 Axes>"
            ],
            "image/png": "[encoded data removed]"
          },
          "metadata": {}
        }
      ]
    },
    {
      "cell_type": "markdown",
      "source": [
        "## Train Model\n",
        "\n",
        "a way to measure the model's predictions is to use Loss function\n",
        "or cost function or criterion\n",
        "\n",
        "**Loss Function:** A function to measure how wrong your model's\n",
        "performance/ predictions are to the ideal outputs, lower the Better\n",
        "\n",
        "**Optimiser:** takes into account the loss of a model and adjusts the\n",
        "model's parameters to imporve the loss funtion.\n",
        "\n",
        "**L1**\n",
        "\n"
      ],
      "metadata": {
        "id": "QRHTAkEbtveN"
      }
    },
    {
      "cell_type": "code",
      "source": [
        "list(model_0.parameters())"
      ],
      "metadata": {
        "id": "RXsuZvAkom9T",
        "colab": {
          "base_uri": "https://localhost:8080/"
        },
        "outputId": "e6881af4-61af-41ff-f19c-a1c389753f39"
      },
      "execution_count": 140,
      "outputs": [
        {
          "output_type": "execute_result",
          "data": {
            "text/plain": [
              "[Parameter containing:\n",
              " tensor([0.3367], requires_grad=True),\n",
              " Parameter containing:\n",
              " tensor([0.1288], requires_grad=True)]"
            ]
          },
          "metadata": {},
          "execution_count": 140
        }
      ]
    },
    {
      "cell_type": "code",
      "source": [
        "# a parameter is a value that model sets itself\n",
        "model_0.state_dict()"
      ],
      "metadata": {
        "colab": {
          "base_uri": "https://localhost:8080/"
        },
        "id": "Agwdi2HInoJc",
        "outputId": "91366563-4c03-4bf0-d572-974e3036e5bc"
      },
      "execution_count": 141,
      "outputs": [
        {
          "output_type": "execute_result",
          "data": {
            "text/plain": [
              "OrderedDict([('weights', tensor([0.3367])), ('bias', tensor([0.1288]))])"
            ]
          },
          "metadata": {},
          "execution_count": 141
        }
      ]
    },
    {
      "cell_type": "code",
      "source": [
        "# setup a loss fn\n",
        "loss_fn = nn.L1Loss()\n",
        "\n",
        "# setup an optimizer (SGD)\n",
        "# hyperparameter is a parameter that you can set\n",
        "optimizer = torch.optim.SGD(params=model_0.parameters(),\n",
        "                            lr=0.01)\n",
        "# Learning Rate is the most imp hyperparameter that you can set"
      ],
      "metadata": {
        "id": "G1TE6VH0n1Fn"
      },
      "execution_count": 142,
      "outputs": []
    },
    {
      "cell_type": "markdown",
      "source": [
        "## Building a Training Loop"
      ],
      "metadata": {
        "id": "jr0R3_DZvw3l"
      }
    },
    {
      "cell_type": "code",
      "source": [
        "torch.manual_seed(42)\n",
        "epochs = 200 # this is a hyperparameter coz we set it ourself\n",
        "epoch_counts = []\n",
        "loss_values = []\n",
        "test_loss_values = []\n",
        "\n",
        "for epoch in range(epochs):\n",
        "  #set the model to training mode\n",
        "  model_0.train()\n",
        "\n",
        "  # 1. Forward pass\n",
        "  y_pred = model_0(X_train)\n",
        "\n",
        "  # 2. calculate the loss\n",
        "  loss = loss_fn(y_pred,y_train)\n",
        "  #print(f'Loss: {loss}')\n",
        "\n",
        "  # 3. optimiser\n",
        "  optimizer.zero_grad()\n",
        "\n",
        "  # 4. Perform backpropagation  on the loss with respect to the parameters of the model\n",
        "  loss.backward()\n",
        "\n",
        "  # 5. step the optimizer perform GD\n",
        "  optimizer.step()\n",
        "\n",
        "  # Testing\n",
        "  model_0.eval()\n",
        "  with torch.inference_mode():\n",
        "    # 1. forward pass\n",
        "    test_pred = model_0(X_test)\n",
        "\n",
        "    # 2. calculate the loss of test\n",
        "    test_loss = loss_fn(test_pred, y_test)\n",
        "\n",
        "  # Print Loss\n",
        "  if epoch % 10 == 0:\n",
        "    epoch_counts.append(epoch)\n",
        "    loss_values.append(loss)\n",
        "    test_loss_values.append(test_loss)\n",
        "    print(f\"Epoch: {epoch} | Loss: {loss} | Test Loss: {test_loss}\")\n",
        "    print(model_0.state_dict())\n",
        "\n",
        "\n",
        "\n",
        "  # print out model state_dict()\n",
        "  #print(model_0.state_dict())\n",
        "\n",
        "# print(f'Loss: {loss}')\n",
        "# print(model_0.state_dict())"
      ],
      "metadata": {
        "id": "xdb0nRM6vux9",
        "colab": {
          "base_uri": "https://localhost:8080/"
        },
        "outputId": "d15c7dd3-c4da-4ff9-8d58-ee9c8a14b0c9"
      },
      "execution_count": 143,
      "outputs": [
        {
          "output_type": "stream",
          "name": "stdout",
          "text": [
            "Epoch: 0 | Loss: 0.31288138031959534 | Test Loss: 0.48106518387794495\n",
            "OrderedDict([('weights', tensor([0.3406])), ('bias', tensor([0.1388]))])\n",
            "Epoch: 10 | Loss: 0.1976713240146637 | Test Loss: 0.3463551998138428\n",
            "OrderedDict([('weights', tensor([0.3796])), ('bias', tensor([0.2388]))])\n",
            "Epoch: 20 | Loss: 0.08908725529909134 | Test Loss: 0.21729660034179688\n",
            "OrderedDict([('weights', tensor([0.4184])), ('bias', tensor([0.3333]))])\n",
            "Epoch: 30 | Loss: 0.053148526698350906 | Test Loss: 0.14464017748832703\n",
            "OrderedDict([('weights', tensor([0.4512])), ('bias', tensor([0.3768]))])\n",
            "Epoch: 40 | Loss: 0.04543796554207802 | Test Loss: 0.11360953003168106\n",
            "OrderedDict([('weights', tensor([0.4748])), ('bias', tensor([0.3868]))])\n",
            "Epoch: 50 | Loss: 0.04167863354086876 | Test Loss: 0.09919948130846024\n",
            "OrderedDict([('weights', tensor([0.4938])), ('bias', tensor([0.3843]))])\n",
            "Epoch: 60 | Loss: 0.03818932920694351 | Test Loss: 0.08886633068323135\n",
            "OrderedDict([('weights', tensor([0.5116])), ('bias', tensor([0.3788]))])\n",
            "Epoch: 70 | Loss: 0.03476089984178543 | Test Loss: 0.0805937647819519\n",
            "OrderedDict([('weights', tensor([0.5288])), ('bias', tensor([0.3718]))])\n",
            "Epoch: 80 | Loss: 0.03132382780313492 | Test Loss: 0.07232122868299484\n",
            "OrderedDict([('weights', tensor([0.5459])), ('bias', tensor([0.3648]))])\n",
            "Epoch: 90 | Loss: 0.02788739837706089 | Test Loss: 0.06473556160926819\n",
            "OrderedDict([('weights', tensor([0.5629])), ('bias', tensor([0.3573]))])\n",
            "Epoch: 100 | Loss: 0.024458957836031914 | Test Loss: 0.05646304413676262\n",
            "OrderedDict([('weights', tensor([0.5800])), ('bias', tensor([0.3503]))])\n",
            "Epoch: 110 | Loss: 0.021020207554101944 | Test Loss: 0.04819049686193466\n",
            "OrderedDict([('weights', tensor([0.5972])), ('bias', tensor([0.3433]))])\n",
            "Epoch: 120 | Loss: 0.01758546568453312 | Test Loss: 0.04060482233762741\n",
            "OrderedDict([('weights', tensor([0.6141])), ('bias', tensor([0.3358]))])\n",
            "Epoch: 130 | Loss: 0.014155393466353416 | Test Loss: 0.03233227878808975\n",
            "OrderedDict([('weights', tensor([0.6313])), ('bias', tensor([0.3288]))])\n",
            "Epoch: 140 | Loss: 0.010716589167714119 | Test Loss: 0.024059748277068138\n",
            "OrderedDict([('weights', tensor([0.6485])), ('bias', tensor([0.3218]))])\n",
            "Epoch: 150 | Loss: 0.0072835334576666355 | Test Loss: 0.016474086791276932\n",
            "OrderedDict([('weights', tensor([0.6654])), ('bias', tensor([0.3143]))])\n",
            "Epoch: 160 | Loss: 0.0038517764769494534 | Test Loss: 0.008201557211577892\n",
            "OrderedDict([('weights', tensor([0.6826])), ('bias', tensor([0.3073]))])\n",
            "Epoch: 170 | Loss: 0.008932482451200485 | Test Loss: 0.005023092031478882\n",
            "OrderedDict([('weights', tensor([0.6951])), ('bias', tensor([0.2993]))])\n",
            "Epoch: 180 | Loss: 0.008932482451200485 | Test Loss: 0.005023092031478882\n",
            "OrderedDict([('weights', tensor([0.6951])), ('bias', tensor([0.2993]))])\n",
            "Epoch: 190 | Loss: 0.008932482451200485 | Test Loss: 0.005023092031478882\n",
            "OrderedDict([('weights', tensor([0.6951])), ('bias', tensor([0.2993]))])\n"
          ]
        }
      ]
    },
    {
      "cell_type": "code",
      "source": [
        "with torch.inference_mode():\n",
        "  y_preds_new = model_0(X_test)"
      ],
      "metadata": {
        "id": "lUKyYc9GfgNB"
      },
      "execution_count": 144,
      "outputs": []
    },
    {
      "cell_type": "code",
      "source": [
        "plot_pred(predictions = y_preds_new)"
      ],
      "metadata": {
        "colab": {
          "base_uri": "https://localhost:8080/",
          "height": 599
        },
        "id": "oNZel4atabkC",
        "outputId": "777f8b04-c4d8-43ba-f910-20b7f9821b85"
      },
      "execution_count": 145,
      "outputs": [
        {
          "output_type": "display_data",
          "data": {
            "text/plain": [
              "<Figure size 1000x700 with 1 Axes>"
            ],
            "image/png": "[encoded data removed]"
          },
          "metadata": {}
        }
      ]
    },
    {
      "cell_type": "code",
      "source": [
        "plt.plot(epoch_counts,np.array(torch.tensor(loss_values).numpy()), label = \"Training Loss\")\n",
        "plt.plot(epoch_counts,test_loss_values, label = \"Test Loss\")\n",
        "plt.title(\"Training and Test loss\")\n",
        "plt.legend()"
      ],
      "metadata": {
        "colab": {
          "base_uri": "https://localhost:8080/",
          "height": 469
        },
        "id": "bFJjZF4fd4Zz",
        "outputId": "8a79da50-5718-4864-cbb8-d7f01d0668cd"
      },
      "execution_count": 151,
      "outputs": [
        {
          "output_type": "execute_result",
          "data": {
            "text/plain": [
              "<matplotlib.legend.Legend at 0x7a93e69b9c50>"
            ]
          },
          "metadata": {},
          "execution_count": 151
        },
        {
          "output_type": "display_data",
          "data": {
            "text/plain": [
              "<Figure size 640x480 with 1 Axes>"
            ],
            "image/png": "[encoded data removed]"
          },
          "metadata": {}
        }
      ]
    },
    {
      "cell_type": "code",
      "source": [],
      "metadata": {
        "id": "UT04h7QmhVRx"
      },
      "execution_count": null,
      "outputs": []
    }
  ]
}